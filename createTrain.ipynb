{
 "cells": [
  {
   "cell_type": "code",
   "execution_count": 1,
   "metadata": {},
   "outputs": [],
   "source": [
    "import pandas as pd"
   ]
  },
  {
   "cell_type": "code",
   "execution_count": 2,
   "metadata": {},
   "outputs": [],
   "source": [
    "Location = r'C:\\Users\\Leon\\Desktop\\ΤΕΔ2020\\data\\april\\listings.csv'\n",
    "april= pd.read_csv(Location,usecols=[\"id\",\"zipcode\",\"transit\",\"bedrooms\",\"beds\",\n",
    "                                     \"review_scores_rating\",\"number_of_reviews\",\"neighbourhood\",\n",
    "                                     \"name\",\"latitude\",\"longitude\",\"last_review\",\"instant_bookable\",\n",
    "                                     \"host_since\",\"host_response_rate\",\"host_identity_verified\",\n",
    "                                     \"host_has_profile_pic\",\"first_review\",\"description\",\"city\",\n",
    "                                     \"cancellation_policy\",\"bed_type\",\"bathrooms\",\"accommodates\",\n",
    "                                     \"amenities\",\"room_type\",\"property_type\",\"price\",\"availability_365\",\"minimum_nights\"])\n",
    "april[\"month\"]=4\n",
    "april = april.drop_duplicates(subset=['id'])\n",
    "\n",
    "Location = r'C:\\Users\\Leon\\Desktop\\ΤΕΔ2020\\data\\febrouary\\listings.csv'\n",
    "february= pd.read_csv(Location,usecols=[\"id\",\"zipcode\",\"transit\",\"bedrooms\",\"beds\",\n",
    "                                     \"review_scores_rating\",\"number_of_reviews\",\"neighbourhood\",\n",
    "                                     \"name\",\"latitude\",\"longitude\",\"last_review\",\"instant_bookable\",\n",
    "                                     \"host_since\",\"host_response_rate\",\"host_identity_verified\",\n",
    "                                     \"host_has_profile_pic\",\"first_review\",\"description\",\"city\",\n",
    "                                     \"cancellation_policy\",\"bed_type\",\"bathrooms\",\"accommodates\",\n",
    "                                     \"amenities\",\"room_type\",\"property_type\",\"price\",\"availability_365\",\"minimum_nights\"])\n",
    "february[\"month\"]=2\n",
    "february = february.drop_duplicates(subset=['id'])\n",
    "\n",
    "Location = r'C:\\Users\\Leon\\Desktop\\ΤΕΔ2020\\data\\march\\listings.csv'\n",
    "march=pd.read_csv(Location,usecols=[\"id\",\"zipcode\",\"transit\",\"bedrooms\",\"beds\",\n",
    "                                     \"review_scores_rating\",\"number_of_reviews\",\"neighbourhood\",\n",
    "                                     \"name\",\"latitude\",\"longitude\",\"last_review\",\"instant_bookable\",\n",
    "                                     \"host_since\",\"host_response_rate\",\"host_identity_verified\",\n",
    "                                     \"host_has_profile_pic\",\"first_review\",\"description\",\"city\",\n",
    "                                     \"cancellation_policy\",\"bed_type\",\"bathrooms\",\"accommodates\",\n",
    "                                     \"amenities\",\"room_type\",\"property_type\",\"price\",\"availability_365\",\"minimum_nights\"])\n",
    "march[\"month\"]=3\n",
    "march = march.drop_duplicates(subset=['id'])"
   ]
  },
  {
   "cell_type": "code",
   "execution_count": 3,
   "metadata": {},
   "outputs": [],
   "source": [
    "train = pd.concat([february,march,april],ignore_index=True)\n",
    "train['price'] = train['price'].str.split(r'\\D').str.get(1).astype(int)\n",
    "train=train.dropna(subset=['id', 'name'])"
   ]
  },
  {
   "cell_type": "code",
   "execution_count": 4,
   "metadata": {},
   "outputs": [],
   "source": [
    "train.to_csv('train.csv',index=False,header=True)"
   ]
  }
 ],
 "metadata": {
  "kernelspec": {
   "display_name": "Python 3",
   "language": "python",
   "name": "python3"
  },
  "language_info": {
   "codemirror_mode": {
    "name": "ipython",
    "version": 3
   },
   "file_extension": ".py",
   "mimetype": "text/x-python",
   "name": "python",
   "nbconvert_exporter": "python",
   "pygments_lexer": "ipython3",
   "version": "3.6.5"
  }
 },
 "nbformat": 4,
 "nbformat_minor": 2
}
